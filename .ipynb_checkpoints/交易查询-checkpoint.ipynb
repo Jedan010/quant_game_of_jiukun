{
 "cells": [
  {
   "cell_type": "markdown",
   "metadata": {},
   "source": [
    "# 基本操作"
   ]
  },
  {
   "cell_type": "code",
   "execution_count": 1,
   "metadata": {
    "collapsed": true
   },
   "outputs": [],
   "source": [
    "import grpc\n",
    "import test_pb2\n",
    "import test_pb2_grpc\n",
    "\n",
    "import time"
   ]
  },
  {
   "cell_type": "markdown",
   "metadata": {},
   "source": [
    "## 编译 .proto 文件"
   ]
  },
  {
   "cell_type": "code",
   "execution_count": 2,
   "metadata": {
    "collapsed": false
   },
   "outputs": [
    {
     "data": {
      "text/plain": [
       "1"
      ]
     },
     "execution_count": 2,
     "metadata": {},
     "output_type": "execute_result"
    }
   ],
   "source": [
    "from grpc_tools import protoc\n",
    "# 或者在项目根目录运行：\n",
    "# python -m grpc_tools.protoc -I. --python_out=./ --grpc_python_out=./ test.proto\n",
    "protoc.main(\n",
    "    (\n",
    "        '',\n",
    "        '-I.',\n",
    "        '--python_out=.',\n",
    "        '--grpc_python_out=.',\n",
    "        'test.proto',\n",
    "    )\n",
    ")\n",
    "## 0 表示成功"
   ]
  },
  {
   "cell_type": "markdown",
   "metadata": {},
   "source": [
    "## 查询股票"
   ]
  },
  {
   "cell_type": "code",
   "execution_count": 3,
   "metadata": {
    "collapsed": true
   },
   "outputs": [],
   "source": [
    "channel = grpc.insecure_channel('test.ubiquant.com:57600')\n",
    "stub = test_pb2_grpc.MarketDataStub(channel)\n",
    "response = stub.subscribe(test_pb2.Empty())"
   ]
  },
  {
   "cell_type": "code",
   "execution_count": 4,
   "metadata": {
    "collapsed": false
   },
   "outputs": [
    {
     "name": "stdout",
     "output_type": "stream",
     "text": [
      "instruments {\n",
      "  symbol: \"A002.PSE\"\n",
      "  timestamp: 28181.867827892303\n",
      "  last_price: 49.54\n",
      "  traded_volume: 1181773903\n",
      "  bid_volume: 14391178\n",
      "  ask_volume: 1969460\n",
      "  bid_order_count: 98\n",
      "  ask_order_count: 41\n",
      "  bid_depth: 40\n",
      "  ask_depth: 15\n",
      "  bid_levels {\n",
      "    price: 49.53\n",
      "    volume: 54165\n",
      "    order_count: 11\n",
      "  }\n",
      "  bid_levels {\n",
      "    price: 49.52\n",
      "    volume: 120814\n",
      "    order_count: 4\n",
      "  }\n",
      "  bid_levels {\n",
      "    price: 49.51\n",
      "    volume: 130462\n",
      "    order_count: 5\n",
      "  }\n",
      "  bid_levels {\n",
      "    price: 49.5\n",
      "    volume: 151998\n",
      "    order_count: 4\n",
      "  }\n",
      "  bid_levels {\n",
      "    price: 49.49\n",
      "    volume: 198005\n",
      "    order_count: 4\n",
      "  }\n",
      "  bid_levels {\n",
      "    price: 49.480000000000004\n",
      "    volume: 390148\n",
      "    order_count: 6\n",
      "  }\n",
      "  bid_levels {\n",
      "    price: 49.47\n",
      "    volume: 290945\n",
      "    order_count: 4\n",
      "  }\n",
      "  bid_levels {\n",
      "    price: 49.46\n",
      "    volume: 566959\n",
      "    order_count: 8\n",
      "  }\n",
      "  bid_levels {\n",
      "    price: 49.45\n",
      "    volume: 402265\n",
      "    order_count: 4\n",
      "  }\n",
      "  bid_levels {\n",
      "    price: 49.44\n",
      "    volume: 167774\n",
      "    order_count: 2\n",
      "  }\n",
      "  ask_levels {\n",
      "    price: 49.54\n",
      "    volume: 11488\n",
      "    order_count: 17\n",
      "  }\n",
      "  ask_levels {\n",
      "    price: 49.56\n",
      "    volume: 36288\n",
      "    order_count: 1\n",
      "  }\n",
      "  ask_levels {\n",
      "    price: 49.59\n",
      "    volume: 72526\n",
      "    order_count: 1\n",
      "  }\n",
      "  ask_levels {\n",
      "    price: 49.65\n",
      "    volume: 108659\n",
      "    order_count: 1\n",
      "  }\n",
      "  ask_levels {\n",
      "    price: 49.69\n",
      "    volume: 144769\n",
      "    order_count: 1\n",
      "  }\n",
      "  ask_levels {\n",
      "    price: 49.71\n",
      "    volume: 180901\n",
      "    order_count: 1\n",
      "  }\n",
      "  ask_levels {\n",
      "    price: 49.74\n",
      "    volume: 216928\n",
      "    order_count: 1\n",
      "  }\n",
      "  ask_levels {\n",
      "    price: 49.78\n",
      "    volume: 252881\n",
      "    order_count: 1\n",
      "  }\n",
      "  ask_levels {\n",
      "    price: 49.86\n",
      "    volume: 288556\n",
      "    order_count: 1\n",
      "  }\n",
      "  ask_levels {\n",
      "    price: 49.88\n",
      "    volume: 295330\n",
      "    order_count: 1\n",
      "  }\n",
      "  last_trades {\n",
      "    timestamp: 28181.344871997833\n",
      "    price: 49.54\n",
      "    volume: 731\n",
      "  }\n",
      "  last_trades {\n",
      "    timestamp: 28181.32176399231\n",
      "    price: 49.54\n",
      "    volume: 626\n",
      "  }\n",
      "  last_trades {\n",
      "    timestamp: 28181.313060045242\n",
      "    price: 49.53\n",
      "    volume: 637\n",
      "  }\n",
      "  last_trades {\n",
      "    timestamp: 28181.303711891174\n",
      "    price: 49.54\n",
      "    volume: 726\n",
      "  }\n",
      "  last_trades {\n",
      "    timestamp: 28181.29845905304\n",
      "    price: 49.53\n",
      "    volume: 609\n",
      "  }\n",
      "  last_trades {\n",
      "    timestamp: 28181.288028001785\n",
      "    price: 49.54\n",
      "    volume: 634\n",
      "  }\n",
      "  last_trades {\n",
      "    timestamp: 28181.285450935364\n",
      "    price: 49.53\n",
      "    volume: 674\n",
      "  }\n",
      "  last_trades {\n",
      "    timestamp: 28181.278070926666\n",
      "    price: 49.54\n",
      "    volume: 725\n",
      "  }\n",
      "  last_trades {\n",
      "    timestamp: 28181.26809000969\n",
      "    price: 49.53\n",
      "    volume: 615\n",
      "  }\n",
      "  last_trades {\n",
      "    timestamp: 28181.26271700859\n",
      "    price: 49.54\n",
      "    volume: 678\n",
      "  }\n",
      "}\n",
      "instruments {\n",
      "  symbol: \"A003.PSE\"\n",
      "  timestamp: 28181.867827892303\n",
      "  last_price: 19.98\n",
      "  traded_volume: 4748327629\n",
      "  bid_volume: 24682443\n",
      "  ask_volume: 13859377\n",
      "  bid_order_count: 60\n",
      "  ask_order_count: 95\n",
      "  bid_depth: 24\n",
      "  ask_depth: 11\n",
      "  bid_levels {\n",
      "    price: 19.98\n",
      "    volume: 510974\n",
      "    order_count: 16\n",
      "  }\n",
      "  bid_levels {\n",
      "    price: 19.97\n",
      "    volume: 434481\n",
      "    order_count: 2\n",
      "  }\n",
      "  bid_levels {\n",
      "    price: 19.96\n",
      "    volume: 1513111\n",
      "    order_count: 7\n",
      "  }\n",
      "  bid_levels {\n",
      "    price: 19.95\n",
      "    volume: 697611\n",
      "    order_count: 3\n",
      "  }\n",
      "  bid_levels {\n",
      "    price: 19.94\n",
      "    volume: 520220\n",
      "    order_count: 2\n",
      "  }\n",
      "  bid_levels {\n",
      "    price: 19.93\n",
      "    volume: 1373973\n",
      "    order_count: 4\n",
      "  }\n",
      "  bid_levels {\n",
      "    price: 19.92\n",
      "    volume: 1671855\n",
      "    order_count: 4\n",
      "  }\n",
      "  bid_levels {\n",
      "    price: 19.91\n",
      "    volume: 534604\n",
      "    order_count: 1\n",
      "  }\n",
      "  bid_levels {\n",
      "    price: 19.900000000000002\n",
      "    volume: 1033255\n",
      "    order_count: 2\n",
      "  }\n",
      "  bid_levels {\n",
      "    price: 19.89\n",
      "    volume: 997453\n",
      "    order_count: 2\n",
      "  }\n",
      "  ask_levels {\n",
      "    price: 19.990000000000002\n",
      "    volume: 477371\n",
      "    order_count: 53\n",
      "  }\n",
      "  ask_levels {\n",
      "    price: 20.0\n",
      "    volume: 600563\n",
      "    order_count: 4\n",
      "  }\n",
      "  ask_levels {\n",
      "    price: 20.01\n",
      "    volume: 686699\n",
      "    order_count: 3\n",
      "  }\n",
      "  ask_levels {\n",
      "    price: 20.02\n",
      "    volume: 1731785\n",
      "    order_count: 6\n",
      "  }\n",
      "  ask_levels {\n",
      "    price: 20.03\n",
      "    volume: 1272507\n",
      "    order_count: 4\n",
      "  }\n",
      "  ask_levels {\n",
      "    price: 20.04\n",
      "    volume: 1253267\n",
      "    order_count: 3\n",
      "  }\n",
      "  ask_levels {\n",
      "    price: 20.05\n",
      "    volume: 1475042\n",
      "    order_count: 3\n",
      "  }\n",
      "  ask_levels {\n",
      "    price: 20.06\n",
      "    volume: 3778594\n",
      "    order_count: 7\n",
      "  }\n",
      "  ask_levels {\n",
      "    price: 20.07\n",
      "    volume: 498702\n",
      "    order_count: 1\n",
      "  }\n",
      "  ask_levels {\n",
      "    price: 20.080000000000002\n",
      "    volume: 2084823\n",
      "    order_count: 3\n",
      "  }\n",
      "  last_trades {\n",
      "    timestamp: 28181.54012989998\n",
      "    price: 19.98\n",
      "    volume: 1825\n",
      "  }\n",
      "  last_trades {\n",
      "    timestamp: 28181.524694919586\n",
      "    price: 19.98\n",
      "    volume: 1520\n",
      "  }\n",
      "  last_trades {\n",
      "    timestamp: 28181.517755031586\n",
      "    price: 19.98\n",
      "    volume: 1715\n",
      "  }\n",
      "  last_trades {\n",
      "    timestamp: 28181.504732847214\n",
      "    price: 19.98\n",
      "    volume: 1569\n",
      "  }\n",
      "  last_trades {\n",
      "    timestamp: 28181.48997282982\n",
      "    price: 19.98\n",
      "    volume: 1726\n",
      "  }\n",
      "  last_trades {\n",
      "    timestamp: 28181.474536895752\n",
      "    price: 19.98\n",
      "    volume: 1762\n",
      "  }\n",
      "  last_trades {\n",
      "    timestamp: 28181.4501850605\n",
      "    price: 19.98\n",
      "    volume: 1536\n",
      "  }\n",
      "  last_trades {\n",
      "    timestamp: 28181.445518016815\n",
      "    price: 19.990000000000002\n",
      "    volume: 1756\n",
      "  }\n",
      "  last_trades {\n",
      "    timestamp: 28181.437752008438\n",
      "    price: 19.98\n",
      "    volume: 1705\n",
      "  }\n",
      "  last_trades {\n",
      "    timestamp: 28181.428696870804\n",
      "    price: 19.990000000000002\n",
      "    volume: 1790\n",
      "  }\n",
      "}\n",
      "instruments {\n",
      "  symbol: \"A001.PSE\"\n",
      "  timestamp: 28181.867827892303\n",
      "  last_price: 98.3\n",
      "  traded_volume: 507227502\n",
      "  bid_volume: 5066095\n",
      "  ask_volume: 5361363\n",
      "  bid_order_count: 49\n",
      "  ask_order_count: 87\n",
      "  bid_depth: 39\n",
      "  ask_depth: 47\n",
      "  bid_levels {\n",
      "    price: 98.3\n",
      "    volume: 716\n",
      "    order_count: 3\n",
      "  }\n",
      "  bid_levels {\n",
      "    price: 98.29\n",
      "    volume: 692\n",
      "    order_count: 2\n",
      "  }\n",
      "  bid_levels {\n",
      "    price: 98.28\n",
      "    volume: 15150\n",
      "    order_count: 3\n",
      "  }\n",
      "  bid_levels {\n",
      "    price: 98.27\n",
      "    volume: 10728\n",
      "    order_count: 1\n",
      "  }\n",
      "  bid_levels {\n",
      "    price: 98.24000000000001\n",
      "    volume: 18071\n",
      "    order_count: 1\n",
      "  }\n",
      "  bid_levels {\n",
      "    price: 98.23\n",
      "    volume: 21465\n",
      "    order_count: 1\n",
      "  }\n",
      "  bid_levels {\n",
      "    price: 98.2\n",
      "    volume: 32209\n",
      "    order_count: 1\n",
      "  }\n",
      "  bid_levels {\n",
      "    price: 98.17\n",
      "    volume: 29016\n",
      "    order_count: 1\n",
      "  }\n",
      "  bid_levels {\n",
      "    price: 98.16\n",
      "    volume: 36170\n",
      "    order_count: 1\n",
      "  }\n",
      "  bid_levels {\n",
      "    price: 98.11\n",
      "    volume: 42984\n",
      "    order_count: 1\n",
      "  }\n",
      "  ask_levels {\n",
      "    price: 98.31\n",
      "    volume: 353\n",
      "    order_count: 1\n",
      "  }\n",
      "  ask_levels {\n",
      "    price: 98.32000000000001\n",
      "    volume: 7504\n",
      "    order_count: 9\n",
      "  }\n",
      "  ask_levels {\n",
      "    price: 98.34\n",
      "    volume: 18619\n",
      "    order_count: 2\n",
      "  }\n",
      "  ask_levels {\n",
      "    price: 98.35000000000001\n",
      "    volume: 21060\n",
      "    order_count: 2\n",
      "  }\n",
      "  ask_levels {\n",
      "    price: 98.36\n",
      "    volume: 13539\n",
      "    order_count: 1\n",
      "  }\n",
      "  ask_levels {\n",
      "    price: 98.37\n",
      "    volume: 30270\n",
      "    order_count: 2\n",
      "  }\n",
      "  ask_levels {\n",
      "    price: 98.38\n",
      "    volume: 55462\n",
      "    order_count: 3\n",
      "  }\n",
      "  ask_levels {\n",
      "    price: 98.39\n",
      "    volume: 39285\n",
      "    order_count: 2\n",
      "  }\n",
      "  ask_levels {\n",
      "    price: 98.4\n",
      "    volume: 73677\n",
      "    order_count: 3\n",
      "  }\n",
      "  ask_levels {\n",
      "    price: 98.43\n",
      "    volume: 43970\n",
      "    order_count: 1\n",
      "  }\n",
      "  last_trades {\n",
      "    timestamp: 28181.621773004532\n",
      "    price: 98.3\n",
      "    volume: 313\n",
      "  }\n",
      "  last_trades {\n",
      "    timestamp: 28181.621773004532\n",
      "    price: 98.3\n",
      "    volume: 42\n",
      "  }\n",
      "  last_trades {\n",
      "    timestamp: 28181.620724916458\n",
      "    price: 98.3\n",
      "    volume: 280\n",
      "  }\n",
      "  last_trades {\n",
      "    timestamp: 28181.620724916458\n",
      "    price: 98.31\n",
      "    volume: 81\n",
      "  }\n",
      "  last_trades {\n",
      "    timestamp: 28181.614443063736\n",
      "    price: 98.31\n",
      "    volume: 281\n",
      "  }\n",
      "  last_trades {\n",
      "    timestamp: 28181.614443063736\n",
      "    price: 98.31\n",
      "    volume: 66\n",
      "  }\n",
      "  last_trades {\n",
      "    timestamp: 28181.609823942184\n",
      "    price: 98.31\n",
      "    volume: 270\n",
      "  }\n",
      "  last_trades {\n",
      "    timestamp: 28181.609823942184\n",
      "    price: 98.31\n",
      "    volume: 37\n",
      "  }\n",
      "  last_trades {\n",
      "    timestamp: 28181.605481863022\n",
      "    price: 98.31\n",
      "    volume: 302\n",
      "  }\n",
      "  last_trades {\n",
      "    timestamp: 28181.605481863022\n",
      "    price: 98.31\n",
      "    volume: 45\n",
      "  }\n",
      "}\n",
      "\n"
     ]
    }
   ],
   "source": [
    "for i in response:\n",
    "    #print(i)\n",
    "    if i:\n",
    "        break"
   ]
  },
  {
   "cell_type": "markdown",
   "metadata": {},
   "source": [
    "## 交易股票"
   ]
  },
  {
   "cell_type": "code",
   "execution_count": 5,
   "metadata": {
    "collapsed": true
   },
   "outputs": [],
   "source": [
    "channel = grpc.insecure_channel('test.ubiquant.com:57500')\n",
    "stub = test_pb2_grpc.BrokerStub(channel)\n",
    "\n",
    "#response = stub.new_order(test_pb2.TraderRequest(\n",
    "#    trader_id=26, trader_pin=\"WvpF9Ea5\", side=0, symbol= \"A002.PSE\", volume = 2, price = 24.815,pos_type = 0))\n",
    "\n",
    "#print(response.timestamp, response.result_code)"
   ]
  },
  {
   "cell_type": "markdown",
   "metadata": {},
   "source": [
    "# 整合"
   ]
  },
  {
   "cell_type": "markdown",
   "metadata": {},
   "source": [
    "## 获取前100时间数据"
   ]
  },
  {
   "cell_type": "code",
   "execution_count": 6,
   "metadata": {
    "collapsed": true
   },
   "outputs": [],
   "source": [
    "n = 0\n",
    "data_list = []\n",
    "for i in response:\n",
    "    data_list.append(i)\n",
    "    n += 1\n",
    "    if n==100:\n",
    "        break"
   ]
  },
  {
   "cell_type": "markdown",
   "metadata": {},
   "source": [
    "## 查看格式"
   ]
  },
  {
   "cell_type": "code",
   "execution_count": 7,
   "metadata": {
    "collapsed": true
   },
   "outputs": [],
   "source": [
    "data = data_list[0]"
   ]
  },
  {
   "cell_type": "code",
   "execution_count": 8,
   "metadata": {
    "collapsed": false
   },
   "outputs": [
    {
     "data": {
      "text/plain": [
       "dict_keys(['symbol', 'timestamp', 'lastPrice', 'tradedVolume', 'bidVolume', 'askVolume', 'bidOrderCount', 'askOrderCount', 'bidDepth', 'askDepth', 'bidLevels', 'askLevels', 'lastTrades'])"
      ]
     },
     "execution_count": 8,
     "metadata": {},
     "output_type": "execute_result"
    }
   ],
   "source": [
    "from google.protobuf.json_format import MessageToDict\n",
    "\n",
    "data = MessageToDict(data)\n",
    "data = data['instruments']\n",
    "data1 = data[0]\n",
    "data1.keys()"
   ]
  },
  {
   "cell_type": "code",
   "execution_count": 9,
   "metadata": {
    "collapsed": false,
    "scrolled": true
   },
   "outputs": [
    {
     "name": "stdout",
     "output_type": "stream",
     "text": [
      "股票名称： A002.PSE\t时间： 1970-11-23 12:17:47\n",
      "价格： 49.54\t成交量： 1181773903\n",
      "买方成交量： 14391178\t卖方成交量： 1969460\n",
      "买方订单量： 98\t卖方订单量： 41\n",
      "买方深度： 40\t卖方深度： 15\n",
      "________________________________________________________\n",
      "股票名称： A003.PSE\t时间： 1970-11-23 12:17:47\n",
      "价格： 19.98\t成交量： 4748327629\n",
      "买方成交量： 24682443\t卖方成交量： 13859377\n",
      "买方订单量： 60\t卖方订单量： 95\n",
      "买方深度： 24\t卖方深度： 11\n",
      "________________________________________________________\n",
      "股票名称： A001.PSE\t时间： 1970-11-23 12:17:47\n",
      "价格： 98.3\t成交量： 507227502\n",
      "买方成交量： 5066095\t卖方成交量： 5361363\n",
      "买方订单量： 49\t卖方订单量： 87\n",
      "买方深度： 39\t卖方深度： 47\n",
      "________________________________________________________\n"
     ]
    }
   ],
   "source": [
    "for i in data:\n",
    "    print('股票名称：',i.get('symbol'), end='\\t')\n",
    "    print('时间：',time.strftime('%Y-%m-%d %H:%M:%S', time.localtime(i.get('timestamp')*1000)))\n",
    "    print('价格：', i.get('lastPrice'), end='\\t')\n",
    "    print('成交量：', i.get('tradedVolume'))\n",
    "    print('买方成交量：', i.get('bidVolume'), end='\\t')\n",
    "    print('卖方成交量：', i.get('askVolume'))\n",
    "    print('买方订单量：', i.get('bidOrderCount'), end='\\t')\n",
    "    print('卖方订单量：', i.get('askOrderCount'))\n",
    "    print('买方深度：', i.get('bidDepth'), end='\\t')\n",
    "    print('卖方深度：', i.get('askDepth'))\n",
    "#    print('买方水平：', i.get('bidLevels'), end='\\t')\n",
    "#    print('卖方水平：', i.get('askLevels'))\n",
    "#    print('最后交易者：',i.get('lastTrades'))\n",
    "    print('________________________________________________________')"
   ]
  },
  {
   "cell_type": "code",
   "execution_count": 10,
   "metadata": {
    "collapsed": false
   },
   "outputs": [
    {
     "name": "stdout",
     "output_type": "stream",
     "text": [
      "A002.PSE\n",
      "A003.PSE\n",
      "A001.PSE\n"
     ]
    }
   ],
   "source": [
    "## 股票代码\n",
    "codes = []\n",
    "for i in data:\n",
    "    codes.append(i.get('symbol'))\n",
    "    print(i.get('symbol'))"
   ]
  },
  {
   "cell_type": "markdown",
   "metadata": {},
   "source": [
    "## 按时间整个股票数据流"
   ]
  },
  {
   "cell_type": "code",
   "execution_count": 11,
   "metadata": {
    "collapsed": true
   },
   "outputs": [],
   "source": [
    "for i in range(len(data_list)):\n",
    "    data_one = pd.DataFrame(MessageToDict(data_list[i])['instruments'])\n",
    "    data_one.drop(['bidLevels','askLevels','lastTrades'], axis=1, inplace=True)\n",
    "    data_one['timestamp'] = pd.to_datetime([time.strftime('%Y-%m-%d %H:%M:%S', time.localtime(i)) for i in data_one['timestamp']])\n",
    "    data_one.set_index('timestamp', inplace=True)\n",
    "    if i==0:\n",
    "        data_frame = data_one.copy()\n",
    "    else:\n",
    "        data_frame = pd.concat([data_frame, data_one])"
   ]
  },
  {
   "cell_type": "code",
   "execution_count": 12,
   "metadata": {
    "collapsed": false
   },
   "outputs": [],
   "source": [
    "data_code = data_frame.groupby(by='symbol')"
   ]
  },
  {
   "cell_type": "code",
   "execution_count": 13,
   "metadata": {
    "collapsed": false
   },
   "outputs": [
    {
     "data": {
      "image/png": "[encoded data removed]",
      "text/plain": [
       "<matplotlib.figure.Figure at 0x2d83ae12f98>"
      ]
     },
     "metadata": {
      "image/png": {
       "height": 264,
       "width": 389
      }
     },
     "output_type": "display_data"
    }
   ],
   "source": [
    "data_frame.loc[data_frame.symbol==codes[0],'lastPrice'].plot.line();"
   ]
  },
  {
   "cell_type": "markdown",
   "metadata": {},
   "source": [
    "## 获取当前买卖水平"
   ]
  },
  {
   "cell_type": "code",
   "execution_count": 14,
   "metadata": {
    "collapsed": false
   },
   "outputs": [
    {
     "name": "stdout",
     "output_type": "stream",
     "text": [
      "股票代码为: A002.PSE\n"
     ]
    }
   ],
   "source": [
    "data1 = MessageToDict(data_list[0])['instruments'][0]\n",
    "print('股票代码为:', data1.get('symbol'))"
   ]
  },
  {
   "cell_type": "code",
   "execution_count": 15,
   "metadata": {
    "collapsed": false
   },
   "outputs": [],
   "source": [
    "bidlevel = pd.DataFrame(data1.get('bidLevels')).sort_values('price',ascending=False)\n",
    "asklevel = pd.DataFrame(data1.get('askLevels')).sort_values('price',ascending=True)"
   ]
  },
  {
   "cell_type": "code",
   "execution_count": 16,
   "metadata": {
    "collapsed": false,
    "scrolled": false
   },
   "outputs": [
    {
     "data": {
      "text/html": [
       "<div>\n",
       "<style>\n",
       "    .dataframe thead tr:only-child th {\n",
       "        text-align: right;\n",
       "    }\n",
       "\n",
       "    .dataframe thead th {\n",
       "        text-align: left;\n",
       "    }\n",
       "\n",
       "    .dataframe tbody tr th {\n",
       "        vertical-align: top;\n",
       "    }\n",
       "</style>\n",
       "<table border=\"1\" class=\"dataframe\">\n",
       "  <thead>\n",
       "    <tr style=\"text-align: right;\">\n",
       "      <th></th>\n",
       "      <th>orderCount</th>\n",
       "      <th>price</th>\n",
       "      <th>volume</th>\n",
       "    </tr>\n",
       "  </thead>\n",
       "  <tbody>\n",
       "    <tr>\n",
       "      <th>0</th>\n",
       "      <td>11</td>\n",
       "      <td>49.53</td>\n",
       "      <td>54165</td>\n",
       "    </tr>\n",
       "    <tr>\n",
       "      <th>1</th>\n",
       "      <td>4</td>\n",
       "      <td>49.52</td>\n",
       "      <td>120814</td>\n",
       "    </tr>\n",
       "    <tr>\n",
       "      <th>2</th>\n",
       "      <td>5</td>\n",
       "      <td>49.51</td>\n",
       "      <td>130462</td>\n",
       "    </tr>\n",
       "    <tr>\n",
       "      <th>3</th>\n",
       "      <td>4</td>\n",
       "      <td>49.50</td>\n",
       "      <td>151998</td>\n",
       "    </tr>\n",
       "    <tr>\n",
       "      <th>4</th>\n",
       "      <td>4</td>\n",
       "      <td>49.49</td>\n",
       "      <td>198005</td>\n",
       "    </tr>\n",
       "  </tbody>\n",
       "</table>\n",
       "</div>"
      ],
      "text/plain": [
       "   orderCount  price  volume\n",
       "0          11  49.53   54165\n",
       "1           4  49.52  120814\n",
       "2           5  49.51  130462\n",
       "3           4  49.50  151998\n",
       "4           4  49.49  198005"
      ]
     },
     "execution_count": 16,
     "metadata": {},
     "output_type": "execute_result"
    }
   ],
   "source": [
    "bidlevel.head()"
   ]
  },
  {
   "cell_type": "code",
   "execution_count": 17,
   "metadata": {
    "collapsed": false,
    "scrolled": false
   },
   "outputs": [
    {
     "data": {
      "image/png": "[encoded data removed]",
      "text/plain": [
       "<matplotlib.figure.Figure at 0x2d83bb23588>"
      ]
     },
     "metadata": {
      "image/png": {
       "height": 363,
       "width": 539
      }
     },
     "output_type": "display_data"
    }
   ],
   "source": [
    "plt.figure(dpi=100)\n",
    "plt.plot(asklevel['price'], asklevel['orderCount'],  marker='o', label='卖方')\n",
    "plt.plot(bidlevel['price'], bidlevel['orderCount'],  marker='o', label='买方')\n",
    "plt.axvline(data1.get('lastPrice'), color='r',linestyle='--',label='股价')\n",
    "#plt.text(data1.get('lastPrice'), 10, data1.get('lastPrice'), fontsize=12)\n",
    "plt.annotate(data1.get('lastPrice'),xy=(data1.get('lastPrice'), 5),xytext=(data1.get('lastPrice')+0.01, 6),arrowprops=dict(arrowstyle=\"->\",connectionstyle=\"arc3\"))\n",
    "plt.xlabel('price',fontsize=12)\n",
    "plt.ylabel('orderCount',fontsize=12)\n",
    "plt.legend()\n",
    "plt.show()"
   ]
  },
  {
   "cell_type": "code",
   "execution_count": 18,
   "metadata": {
    "collapsed": false
   },
   "outputs": [
    {
     "data": {
      "text/html": [
       "<div>\n",
       "<style>\n",
       "    .dataframe thead tr:only-child th {\n",
       "        text-align: right;\n",
       "    }\n",
       "\n",
       "    .dataframe thead th {\n",
       "        text-align: left;\n",
       "    }\n",
       "\n",
       "    .dataframe tbody tr th {\n",
       "        vertical-align: top;\n",
       "    }\n",
       "</style>\n",
       "<table border=\"1\" class=\"dataframe\">\n",
       "  <thead>\n",
       "    <tr style=\"text-align: right;\">\n",
       "      <th></th>\n",
       "      <th>price</th>\n",
       "      <th>volume</th>\n",
       "    </tr>\n",
       "  </thead>\n",
       "  <tbody>\n",
       "    <tr>\n",
       "      <th>1970-11-23 12:09:04</th>\n",
       "      <td>49.54</td>\n",
       "      <td>731</td>\n",
       "    </tr>\n",
       "    <tr>\n",
       "      <th>1970-11-23 12:08:41</th>\n",
       "      <td>49.54</td>\n",
       "      <td>626</td>\n",
       "    </tr>\n",
       "    <tr>\n",
       "      <th>1970-11-23 12:08:33</th>\n",
       "      <td>49.53</td>\n",
       "      <td>637</td>\n",
       "    </tr>\n",
       "    <tr>\n",
       "      <th>1970-11-23 12:08:23</th>\n",
       "      <td>49.54</td>\n",
       "      <td>726</td>\n",
       "    </tr>\n",
       "    <tr>\n",
       "      <th>1970-11-23 12:08:18</th>\n",
       "      <td>49.53</td>\n",
       "      <td>609</td>\n",
       "    </tr>\n",
       "  </tbody>\n",
       "</table>\n",
       "</div>"
      ],
      "text/plain": [
       "                     price  volume\n",
       "1970-11-23 12:09:04  49.54     731\n",
       "1970-11-23 12:08:41  49.54     626\n",
       "1970-11-23 12:08:33  49.53     637\n",
       "1970-11-23 12:08:23  49.54     726\n",
       "1970-11-23 12:08:18  49.53     609"
      ]
     },
     "execution_count": 18,
     "metadata": {},
     "output_type": "execute_result"
    }
   ],
   "source": [
    "lasttraders = pd.DataFrame(data1.get('lastTrades'))\n",
    "\n",
    "timelist = [time.strftime('%Y-%m-%d %H:%M:%S', time.localtime(i*1000)) for i in lasttraders['timestamp']]\n",
    "lasttraders.set_index(pd.to_datetime(timelist), inplace=True)\n",
    "lasttraders.drop('timestamp', axis=1, inplace=True)\n",
    "lasttraders.head()"
   ]
  },
  {
   "cell_type": "code",
   "execution_count": 19,
   "metadata": {
    "collapsed": false
   },
   "outputs": [
    {
     "data": {
      "image/png": "[encoded data removed]",
      "text/plain": [
       "<matplotlib.figure.Figure at 0x2d83bb33da0>"
      ]
     },
     "metadata": {
      "image/png": {
       "height": 253,
       "width": 382
      }
     },
     "output_type": "display_data"
    }
   ],
   "source": [
    "lasttraders.plot.line(subplots=True);"
   ]
  },
  {
   "cell_type": "code",
   "execution_count": null,
   "metadata": {
    "collapsed": true
   },
   "outputs": [],
   "source": []
  }
 ],
 "metadata": {
  "kernelspec": {
   "display_name": "Python [default]",
   "language": "python",
   "name": "python3"
  },
  "language_info": {
   "codemirror_mode": {
    "name": "ipython",
    "version": 3
   },
   "file_extension": ".py",
   "mimetype": "text/x-python",
   "name": "python",
   "nbconvert_exporter": "python",
   "pygments_lexer": "ipython3",
   "version": "3.6.2"
  },
  "toc": {
   "nav_menu": {},
   "number_sections": true,
   "sideBar": true,
   "skip_h1_title": false,
   "toc_cell": false,
   "toc_position": {},
   "toc_section_display": "block",
   "toc_window_display": false
  },
  "varInspector": {
   "cols": {
    "lenName": 16,
    "lenType": 16,
    "lenVar": 40
   },
   "kernels_config": {
    "python": {
     "delete_cmd_postfix": "",
     "delete_cmd_prefix": "del ",
     "library": "var_list.py",
     "varRefreshCmd": "print(var_dic_list())"
    },
    "r": {
     "delete_cmd_postfix": ") ",
     "delete_cmd_prefix": "rm(",
     "library": "var_list.r",
     "varRefreshCmd": "cat(var_dic_list()) "
    }
   },
   "types_to_exclude": [
    "module",
    "function",
    "builtin_function_or_method",
    "instance",
    "_Feature"
   ],
   "window_display": false
  }
 },
 "nbformat": 4,
 "nbformat_minor": 2
}
